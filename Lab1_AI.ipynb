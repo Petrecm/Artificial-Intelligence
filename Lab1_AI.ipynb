{
 "cells": [
  {
   "cell_type": "markdown",
   "metadata": {},
   "source": [
    "# Artificial Intelligence - Fall 2024 - Laboratory 01 : Python Introduction part I"
   ]
  },
  {
   "cell_type": "markdown",
   "metadata": {},
   "source": [
    "## Introduction\n",
    "\n",
    "Let's start our *Artificial Intelligence* journey with a brief introduction to Python - the scripting language that:\n",
    "\n",
    "* Is easy to learn and read thanks to its \"pseudocode\" syntax;\n",
    "* Allows us to express large projects in fewer lines of code;\n",
    "* Sets the scene for _interactive lessons_ ;) !"
   ]
  },
  {
   "cell_type": "markdown",
   "metadata": {},
   "source": [
    "## The Basics\n",
    "\n",
    "### Speaking of syntax:\n",
    "\n",
    "* For building a code block structure, the language uses whitespaces and indentation;\n",
    "\n",
    "```python\n",
    "# Python comments are marked by #symbol.\n",
    "```\n",
    "\n",
    "* To save your files, please use the .py extension."
   ]
  },
  {
   "cell_type": "markdown",
   "metadata": {},
   "source": [
    "### Variables and Operators\n",
    "\n",
    "Declare meaningful variables names using letters, numbers and underscores (Please be careful with Python keywords or reserved names)."
   ]
  },
  {
   "cell_type": "markdown",
   "metadata": {},
   "source": [
    "**Obs 1:** Python is _dynamically typed_ and instantly infers the data type of the variable."
   ]
  },
  {
   "cell_type": "code",
   "execution_count": 96,
   "metadata": {
    "scrolled": true
   },
   "outputs": [
    {
     "name": "stdout",
     "output_type": "stream",
     "text": [
      "This is my first string! <class 'str'>\n",
      "The assignment operator is \"=\" and my variable 2.0245 is of type: <class 'float'>.\n",
      "my_var = 7.0245 is of type: <class 'float'>.\n",
      "The exponent symbol is ** and my_var equals 49.344.\n"
     ]
    }
   ],
   "source": [
    "# To create variables assign values:\n",
    "my_var = 'This is my first string!' # the end of the statement doesn't require a ;\n",
    "print(my_var, type(my_var))\n",
    "\n",
    "my_var = 2.0245\n",
    "print('The assignment operator is \"=\" and my variable {} is of type: {}.' .format(my_var, type(my_var)))\n",
    "\n",
    "my_var += 5\n",
    "print('my_var = {} is of type: {}.' .format(my_var, type(my_var)))\n",
    "\n",
    "my_var = my_var**2\n",
    "print('The exponent symbol is ** and my_var equals {0:.3f}.' .format(my_var))"
   ]
  },
  {
   "cell_type": "markdown",
   "metadata": {},
   "source": [
    "**Obs 2:** Additionally, the automatic conversion of different data types is not allowed (Python is _strongly typed_)."
   ]
  },
  {
   "cell_type": "code",
   "execution_count": 98,
   "metadata": {},
   "outputs": [
    {
     "name": "stdout",
     "output_type": "stream",
     "text": [
      "Why we like Science? 7.0245\n"
     ]
    }
   ],
   "source": [
    "my_str = 'Why we like Science?'\n",
    "my_var = 7.0245\n",
    "\n",
    "print(my_str + ' ' + str(my_var))"
   ]
  },
  {
   "cell_type": "markdown",
   "metadata": {},
   "source": [
    "### Task 0\n",
    "_Note: Yes, the laboratory uses zero-based indexing._\n",
    "\n",
    "* Convert `my_var` to integer.\n",
    "* Concatenate `my_str` with `my_var`.\n",
    "\n",
    "_Hint_: Mind the types of the variables you are concatenating.\n",
    "\n",
    "Different type conversion functions are:\n",
    "\n",
    "```python\n",
    "    int(variable)\n",
    "    float(variable)\n",
    "    str(variable)\n",
    "    list(variable)\n",
    "```"
   ]
  },
  {
   "cell_type": "code",
   "execution_count": 82,
   "metadata": {},
   "outputs": [],
   "source": [
    "# Your implementation here:\n",
    "my_var = 49\n",
    "my_str = 'Why we like Science?'\n",
    "result = my_str + ' ' + str(my_var) + '.'\n"
   ]
  },
  {
   "cell_type": "code",
   "execution_count": 83,
   "metadata": {},
   "outputs": [
    {
     "name": "stdout",
     "output_type": "stream",
     "text": [
      "result: Why we like Science? 49.\n"
     ]
    }
   ],
   "source": [
    "print('result: {}' .format(result))\n",
    "assert result == 'Why we like Science? 49.'"
   ]
  },
  {
   "cell_type": "code",
   "execution_count": 84,
   "metadata": {},
   "outputs": [
    {
     "data": {
      "text/plain": [
       "True"
      ]
     },
     "execution_count": 84,
     "metadata": {},
     "output_type": "execute_result"
    }
   ],
   "source": [
    "# To verify if a variable has a reserved name:\n",
    "import keyword\n",
    "\n",
    "keyword.iskeyword('def')"
   ]
  },
  {
   "cell_type": "code",
   "execution_count": 100,
   "metadata": {},
   "outputs": [
    {
     "name": "stdout",
     "output_type": "stream",
     "text": [
      "Before deletion: 49\n",
      "Variable deleted successfully!\n"
     ]
    }
   ],
   "source": [
    "# To remove a variable:\n",
    "my_var = 49\n",
    "print(\"Before deletion:\", my_var)\n",
    "del my_var\n",
    "print(\"Variable deleted successfully!\")"
   ]
  },
  {
   "cell_type": "markdown",
   "metadata": {},
   "source": [
    "### Task 1\n",
    "\n",
    "Write the _sentence_ string based on existing variables and any additional element.\n",
    "\n",
    "_Hint:_ You might want to take a look at `.format()` or `join()` method before."
   ]
  },
  {
   "cell_type": "code",
   "execution_count": 86,
   "metadata": {},
   "outputs": [],
   "source": [
    "noun = 'layer'\n",
    "verb = 'has'\n",
    "number = 128\n",
    "punctuation = '.'"
   ]
  },
  {
   "cell_type": "code",
   "execution_count": 87,
   "metadata": {},
   "outputs": [
    {
     "name": "stdout",
     "output_type": "stream",
     "text": [
      "This layer has 128 neurons.\n"
     ]
    }
   ],
   "source": [
    "# Your implementation:\n",
    "sentence = f\"This {noun} {verb} {number} neurons{punctuation}\"\n",
    "print(sentence)\n"
   ]
  },
  {
   "cell_type": "code",
   "execution_count": 88,
   "metadata": {},
   "outputs": [
    {
     "name": "stdout",
     "output_type": "stream",
     "text": [
      "sentence: This layer has 128 neurons.\n"
     ]
    }
   ],
   "source": [
    "print('sentence: {}'.format(sentence))\n",
    "assert sentence == 'This layer has 128 neurons.'"
   ]
  },
  {
   "cell_type": "markdown",
   "metadata": {},
   "source": [
    "### Loops\n",
    "\n",
    "```python\n",
    "    for item in sequence:\n",
    "        \"\"\"DO STUFF\"\"\"\n",
    "```\n",
    "\n",
    "Look for `break`, `continue`, `pass` statements [here](https://docs.python.org/3/tutorial/controlflow.html#for-statements).\n"
   ]
  },
  {
   "cell_type": "markdown",
   "metadata": {},
   "source": [
    "### Lists\n",
    "\n",
    "To construct computed lists, we can use _list comprehension_ syntax:\n",
    "\n",
    "```python\n",
    "    my_list = [expression for variable in sequence]\n",
    "```"
   ]
  },
  {
   "cell_type": "code",
   "execution_count": 74,
   "metadata": {},
   "outputs": [
    {
     "name": "stdout",
     "output_type": "stream",
     "text": [
      "A is an empty list: [], type: <class 'list'>\n",
      "B is known as `list display`: [0, 2, 4, 6], the number of items in the list: 4\n"
     ]
    }
   ],
   "source": [
    "A = [] # alternative A = list()\n",
    "print('A is an empty list: {}, type: {}'.format(A, type(A)))\n",
    "\n",
    "B = [0, 2, 4, 6] \n",
    "print('B is known as `list display`: {}, the number of items in the list: {}'.format(B, len(B)))"
   ]
  },
  {
   "cell_type": "markdown",
   "metadata": {},
   "source": [
    "### Task 2\n",
    "\n",
    "**a.** Change the values in list B in odd numbers, in a new list C. Using a `for loop` print list items."
   ]
  },
  {
   "cell_type": "code",
   "execution_count": 75,
   "metadata": {},
   "outputs": [],
   "source": [
    "# Your implementation here:\n",
    "C = [x + 1 for x in B]\n"
   ]
  },
  {
   "cell_type": "code",
   "execution_count": 76,
   "metadata": {},
   "outputs": [
    {
     "name": "stdout",
     "output_type": "stream",
     "text": [
      "C : [1, 3, 5, 7]\n"
     ]
    }
   ],
   "source": [
    "print('C : {}'.format(C))\n",
    "assert C == [1, 3, 5, 7]"
   ]
  },
  {
   "cell_type": "code",
   "execution_count": 77,
   "metadata": {},
   "outputs": [
    {
     "name": "stdout",
     "output_type": "stream",
     "text": [
      "0\n"
     ]
    }
   ],
   "source": [
    "# To acces values in your list:\n",
    "first_elem = B[0] \n",
    "print(first_elem)"
   ]
  },
  {
   "cell_type": "markdown",
   "metadata": {},
   "source": [
    "**b.** Update the third element of B to 0."
   ]
  },
  {
   "cell_type": "code",
   "execution_count": 102,
   "metadata": {},
   "outputs": [],
   "source": [
    "# Your implementation here:\n",
    "B[2] = 0\n",
    "B[3] = 0\n"
   ]
  },
  {
   "cell_type": "code",
   "execution_count": 109,
   "metadata": {},
   "outputs": [
    {
     "name": "stdout",
     "output_type": "stream",
     "text": [
      "Updated list: [0, 2, 4, 0]\n"
     ]
    }
   ],
   "source": [
    "print('Updated list: {}'.format(B))\n",
    "assert B == [0, 2, 4, 0]\n"
   ]
  },
  {
   "cell_type": "markdown",
   "metadata": {},
   "source": [
    "**c.** Extract the middle elements from list B.\n",
    "\n",
    "Return a new list containing the objects between the corresponding start and stop indices, separated by `:`."
   ]
  },
  {
   "cell_type": "code",
   "execution_count": null,
   "metadata": {},
   "outputs": [],
   "source": [
    "# Your implementation here:\n",
    "diff_elems = B[1:3]\n"
   ]
  },
  {
   "cell_type": "code",
   "execution_count": null,
   "metadata": {},
   "outputs": [],
   "source": [
    "print('Distinct elements of B: {}'.format(diff_elems))\n",
    "assert diff_elems == [2, 4]"
   ]
  },
  {
   "cell_type": "markdown",
   "metadata": {},
   "source": [
    "### Dictionaires\n",
    "\n",
    "#### An unordered collection of items, where each item has a `key` and a corresponding `value`.\n",
    "\n",
    "Syntax:\n",
    "\n",
    "```python\n",
    "# To return key-value pairs:\n",
    "\n",
    "dictionary.items()\n",
    "```"
   ]
  },
  {
   "cell_type": "code",
   "execution_count": 63,
   "metadata": {},
   "outputs": [],
   "source": [
    "# Empty dictionary:\n",
    "my_dict = {} # alternative my_dict = dict()\n",
    "\n",
    "# Populating a dictionary:\n",
    "scientists_dict = {1: 'Geoffrey Hinton', 2: 'Yoshua Bengio', 3: 'Yann LeCun'}"
   ]
  },
  {
   "cell_type": "code",
   "execution_count": 64,
   "metadata": {},
   "outputs": [
    {
     "name": "stdout",
     "output_type": "stream",
     "text": [
      "dict_items([(1, 'Geoffrey Hinton'), (2, 'Yoshua Bengio'), (3, 'Yann LeCun')])\n",
      "dict_keys([1, 2, 3])\n",
      "dict_values(['Geoffrey Hinton', 'Yoshua Bengio', 'Yann LeCun'])\n"
     ]
    }
   ],
   "source": [
    "# Your implementation here: \n",
    "# Display items:\n",
    "print(scientists_dict.items())\n",
    "\n",
    "# Keys:\n",
    "print(scientists_dict.keys())\n",
    "\n",
    "# Values:\n",
    "print(scientists_dict.values())\n"
   ]
  },
  {
   "cell_type": "markdown",
   "metadata": {},
   "source": [
    "To access elements from a dictionary, we can apply `keys` inside `[]` or with `get()` method."
   ]
  },
  {
   "cell_type": "code",
   "execution_count": 65,
   "metadata": {},
   "outputs": [
    {
     "name": "stdout",
     "output_type": "stream",
     "text": [
      "Geoffrey Hinton\n"
     ]
    }
   ],
   "source": [
    "print(scientists_dict[1])"
   ]
  },
  {
   "cell_type": "code",
   "execution_count": 66,
   "metadata": {},
   "outputs": [],
   "source": [
    "del scientists_dict[3]"
   ]
  },
  {
   "cell_type": "markdown",
   "metadata": {},
   "source": [
    "### Task 3\n",
    "\n",
    "**a.** Fill the missing parts of the following sentences, and try to access the 3rd item of the dictionary, using both options presented above."
   ]
  },
  {
   "cell_type": "code",
   "execution_count": 67,
   "metadata": {},
   "outputs": [
    {
     "name": "stdout",
     "output_type": "stream",
     "text": [
      "None\n",
      "Key not found\n"
     ]
    }
   ],
   "source": [
    "# Your implementation here\n",
    "print(scientists_dict.get(3))\n",
    "try:\n",
    "    print(scientists_dict[3])\n",
    "except KeyError:\n",
    "    print(\"Key not found\")\n"
   ]
  },
  {
   "cell_type": "markdown",
   "metadata": {},
   "source": [
    "\n",
    "- Accessing a missing key will raise `_____` error if we use the square brackets.\n",
    "- The `_____` method returns `_____`."
   ]
  },
  {
   "cell_type": "markdown",
   "metadata": {},
   "source": [
    "**b.** Now update the 3rd item of the dictionary with a _string_ as a key, `scientists_dict` becomes a collection with `mixed keys`.\n",
    " For this new key, add a researcher of your choice."
   ]
  },
  {
   "cell_type": "code",
   "execution_count": 68,
   "metadata": {},
   "outputs": [],
   "source": [
    "# Your implementation here:\n",
    "scientists_dict['researcher'] = 'Andrew Ng'\n"
   ]
  },
  {
   "cell_type": "code",
   "execution_count": 69,
   "metadata": {},
   "outputs": [
    {
     "name": "stdout",
     "output_type": "stream",
     "text": [
      "Updated dictionary {1: 'Geoffrey Hinton', 2: 'Yoshua Bengio', 'researcher': 'Andrew Ng'}\n"
     ]
    }
   ],
   "source": [
    "print('Updated dictionary {}'.format(scientists_dict))"
   ]
  },
  {
   "cell_type": "markdown",
   "metadata": {},
   "source": [
    "### Decision making\n",
    "\n",
    "```python\n",
    "if is_expression1a_valid and is_expression1b_valid:\n",
    "    execute_statement1\n",
    "elif is_optional_expression2a_valid or is_optional_expression2a_valid:\n",
    "    execute_statement2\n",
    "elif is_item in optional_expression3:\n",
    "    execute_statement3\n",
    "else:\n",
    "    execute_statement4\n",
    "```"
   ]
  },
  {
   "cell_type": "markdown",
   "metadata": {},
   "source": [
    "**c.** Presuming that `publications` dictionary stores the academic footprint (h-index) left by some of the well known researchers in the AI field, use `list comprehension` to obtain the number of publications.\n",
    "\n",
    "_Hint:_ Take into account only numeric values. "
   ]
  },
  {
   "cell_type": "code",
   "execution_count": 70,
   "metadata": {},
   "outputs": [],
   "source": [
    "publications = {'bengio' : 168,\n",
    "                'lecun' : 'computerVision',\n",
    "                'hinton' : 156,\n",
    "                'feifei' : 104,\n",
    "                'koller' : 142,\n",
    "                'elKaliouby' : 'emotionalAI'\n",
    "               }"
   ]
  },
  {
   "cell_type": "code",
   "execution_count": 71,
   "metadata": {},
   "outputs": [],
   "source": [
    "# Your implementation here:\n",
    "total_publications = sum([v for v in publications.values() if isinstance(v, int)])\n"
   ]
  },
  {
   "cell_type": "code",
   "execution_count": 72,
   "metadata": {},
   "outputs": [
    {
     "name": "stdout",
     "output_type": "stream",
     "text": [
      "570\n"
     ]
    }
   ],
   "source": [
    "print(total_publications)"
   ]
  },
  {
   "cell_type": "code",
   "execution_count": 73,
   "metadata": {},
   "outputs": [],
   "source": [
    "assert total_publications == 570"
   ]
  },
  {
   "cell_type": "markdown",
   "metadata": {},
   "source": [
    "### Idiomatic loops\n",
    "\n",
    "* Iterating over a range of numbers:\n",
    "\n",
    "```python\n",
    "    for val in range(int_val):\n",
    "        \"\"\"DO STUFF\"\"\"\n",
    "```\n",
    "\n",
    "* Retrieving the index of a list:\n",
    "\n",
    "```python\n",
    "    for i, val in enumerate(my_list):\n",
    "        \"\"\"DO STUFF\"\"\n",
    "```\n",
    "\n",
    "* As well as its elements:\n",
    "\n",
    "```python\n",
    "    for item in my_list:\n",
    "        \"\"\"DO STUFF\"\"\"\n",
    "```"
   ]
  },
  {
   "cell_type": "markdown",
   "metadata": {},
   "source": [
    "### Task 4\n",
    "\n",
    "Create a new string from even numbered characters in `my_str = awareness`. Please use an idiomatic loop."
   ]
  },
  {
   "cell_type": "code",
   "execution_count": 56,
   "metadata": {},
   "outputs": [
    {
     "name": "stdout",
     "output_type": "stream",
     "text": [
      "aaees\n"
     ]
    }
   ],
   "source": [
    "# Your implementation\n",
    "my_str = 'awareness'\n",
    "new_str = ''.join([ch for i, ch in enumerate(my_str) if i % 2 == 0])\n",
    "print(new_str)\n"
   ]
  },
  {
   "cell_type": "code",
   "execution_count": 57,
   "metadata": {},
   "outputs": [],
   "source": [
    "assert new_str == 'aaees'"
   ]
  },
  {
   "cell_type": "markdown",
   "metadata": {},
   "source": [
    "### Task 5\n",
    "\n",
    "Given `n = 9`, write a script to generate a dictionary that contains integer `keys ∈ [1, 9]`.\n",
    "\n",
    "**a.** Your values should be computed by the following formula:\n",
    "\n",
    "\\begin{equation*}\n",
    "values   = ax^2 + bx,\n",
    "\\end{equation*}\n",
    "\n",
    "where x is also an integer number between 1 and n, a=2 and b=3.\n",
    "\n",
    "**b.** Split the values from the dictionary that are divisible by 3, respectively 2, into two different lists.\n",
    "\n",
    "**c.** Check if the two lists from point _b._ have any element in common, and create a new list (sorted) removing their intersection. "
   ]
  },
  {
   "cell_type": "code",
   "execution_count": 54,
   "metadata": {},
   "outputs": [
    {
     "name": "stdout",
     "output_type": "stream",
     "text": [
      "Values: {1: 5, 2: 14, 3: 27, 4: 44, 5: 65, 6: 90, 7: 119, 8: 152, 9: 189}\n",
      "Divisible by 3: [27, 90, 189]\n",
      "Divisible by 2: [14, 44, 90, 152]\n",
      "Final list: [14, 27, 44, 152, 189]\n"
     ]
    }
   ],
   "source": [
    "# Task 5 implementation\n",
    "n = 9\n",
    "a, b = 2, 3\n",
    "values_dict = {x: a*x**2 + b*x for x in range(1, n+1)}\n",
    "\n",
    "div_by_3 = [v for v in values_dict.values() if v % 3 == 0]\n",
    "div_by_2 = [v for v in values_dict.values() if v % 2 == 0]\n",
    "\n",
    "common = set(div_by_3).intersection(div_by_2)\n",
    "merged_sorted = sorted(list(set(div_by_3 + div_by_2) - common))\n",
    "\n",
    "print('Values:', values_dict)\n",
    "print('Divisible by 3:', div_by_3)\n",
    "print('Divisible by 2:', div_by_2)\n",
    "print('Final list:', merged_sorted)\n"
   ]
  },
  {
   "cell_type": "markdown",
   "metadata": {},
   "source": [
    "## Naming Conventions for Functions in Python:\n",
    "\n",
    "### **Dos:**\n",
    "\n",
    "* Ordinary letters, numbers and underscores\n",
    "* Descriptive names\n",
    "\n",
    "```python\n",
    "def build_network(net_name):\n",
    "    \"\"\"DO STUFF\"\"\"\n",
    "```\n",
    "\n",
    "### ~~**Don'ts:**~~\n",
    "\n",
    "* Spaces\n",
    "* Reserved words\n",
    "* Built-in functions\n",
    "\n",
    "```python\n",
    "def build Network(mnist cifar coco):\n",
    "    \"\"\"DO STUFF\"\"\"\n",
    "```"
   ]
  },
  {
   "cell_type": "markdown",
   "metadata": {},
   "source": [
    "### Default Arguments"
   ]
  },
  {
   "cell_type": "code",
   "execution_count": 51,
   "metadata": {},
   "outputs": [],
   "source": [
    "def volume_cone(height, radius=2.4):\n",
    "    pi = 3.14\n",
    "    return pi * radius ** 2 * height / 3"
   ]
  },
  {
   "cell_type": "code",
   "execution_count": 52,
   "metadata": {},
   "outputs": [
    {
     "name": "stdout",
     "output_type": "stream",
     "text": [
      "The volume of a cone is: 54.2592\n"
     ]
    }
   ],
   "source": [
    "# Case1: radius is omitted in volume_cone function call.\n",
    "v = volume_cone(height=9) # height is passed in by name\n",
    "print('The volume of a cone is: {}' .format(v))"
   ]
  },
  {
   "cell_type": "code",
   "execution_count": 53,
   "metadata": {},
   "outputs": [
    {
     "name": "stdout",
     "output_type": "stream",
     "text": [
      "The volume of a cone is: 84.78\n"
     ]
    }
   ],
   "source": [
    "# Case2: the default value of radius=2.4 is overwritten.\n",
    "v = volume_cone(9, 3) # height and radius are passed in by position\n",
    "print('The volume of a cone is: {}' .format(v))"
   ]
  },
  {
   "cell_type": "markdown",
   "metadata": {},
   "source": [
    "### Task 6\n",
    "\n",
    "**a.** Call the function name with appropriate parameters in the code section below."
   ]
  },
  {
   "cell_type": "code",
   "execution_count": 46,
   "metadata": {},
   "outputs": [],
   "source": [
    "def choose_researcher(name):\n",
    "    print('The researcher I am going to present for Special Task is {}.' .format(name))"
   ]
  },
  {
   "cell_type": "code",
   "execution_count": 47,
   "metadata": {},
   "outputs": [
    {
     "name": "stdout",
     "output_type": "stream",
     "text": [
      "The researcher I am going to present for Special Task is Geoffrey Hinton.\n"
     ]
    }
   ],
   "source": [
    "# Your implementation here:\n",
    "choose_researcher('Geoffrey Hinton')\n"
   ]
  },
  {
   "cell_type": "markdown",
   "metadata": {},
   "source": [
    "### Slicing Strings\n",
    "\n",
    "The string slice function creates substrings by following the rule:\n",
    "\n",
    "```python\n",
    "string_object[start_index:end_index:step]\n",
    "```\n",
    "\n",
    "Besides,\n",
    "\n",
    "```python\n",
    "string_object[:index] + string_object[index:] == string_object\n",
    "```"
   ]
  },
  {
   "cell_type": "code",
   "execution_count": 48,
   "metadata": {},
   "outputs": [
    {
     "name": "stdout",
     "output_type": "stream",
     "text": [
      "Practice\n",
      "ecitcarP\n"
     ]
    }
   ],
   "source": [
    "s = 'Practice makes perfect!'\n",
    "first_word = s[:8]\n",
    "print(first_word)\n",
    "first_word_reversed = first_word[::-1]\n",
    "print(first_word_reversed)"
   ]
  },
  {
   "cell_type": "markdown",
   "metadata": {},
   "source": [
    "**b.** Build a program in a text editor of your choice and use the prompt to run it.\n",
    "\n",
    "It can be a useful strategy to do:\n",
    "\n",
    " `>>> conda activate myenv` (add the current path of your script).\n",
    " \n",
    " `>>> python myscript.py`\n",
    " \n",
    " `...`\n",
    " \n",
    " `>>> conda deactivate`\n",
    " \n",
    "```python\n",
    "def do_stuff():\n",
    "    \"\"\"This function extracts\n",
    "    the required slices from \n",
    "    a given string passed in \n",
    "    as a parameter and returns\n",
    "    a new string.\n",
    "    \"\"\"\n",
    "        return # Your implementation here.\n",
    "    \n",
    "if __name__ == '__main__':\n",
    "    str_arg = 'The AI journey is the perfect opportunity to expand one`s horizons.'\n",
    "    # Call function.\n",
    "    # The expected new string is 'AI horizons.'\n",
    "```"
   ]
  },
  {
   "cell_type": "markdown",
   "metadata": {},
   "source": [
    "**c.** Calculate the number of upper case letters, lower case letters and punctuation marks used in a given sentence.\n",
    "For the string used before, the output should be:\n",
    "\n",
    "`UPPER CASE 3, lower case 52 and punctuation marks 2.`\n",
    "\n",
    "_Note_: A set of built-in methods that you can use on strings are `str.upper()`, `str.isupper()` ,`str.lower()`, `str.islower()`, `str.title()`."
   ]
  },
  {
   "cell_type": "code",
   "execution_count": 43,
   "metadata": {},
   "outputs": [
    {
     "name": "stdout",
     "output_type": "stream",
     "text": [
      "UPPER CASE 3, lower case 52 and punctuation marks 2.\n"
     ]
    }
   ],
   "source": [
    "def compute_characters(sentence):\n",
    "    ### Your implementation here:\n",
    "    d = {'upper_ch': 0, 'lower_ch': 0, 'puncts': 0}\n",
    "    import string\n",
    "    for ch in sentence:\n",
    "        if ch.isupper():\n",
    "            d['upper_ch'] += 1\n",
    "        elif ch.islower():\n",
    "            d['lower_ch'] += 1\n",
    "        elif ch in string.punctuation or ch in ['`']:\n",
    "            d['puncts'] += 1\n",
    "    print(\"UPPER CASE {}, lower case {} and punctuation marks {}.\".format(d[\"upper_ch\"], d[\"lower_ch\"], d[\"puncts\"]))\n",
    "\n",
    "str_arg = 'The AI journey is the perfect opportunity to expand one`s horizons.'\n",
    "compute_characters(str_arg)\n"
   ]
  },
  {
   "cell_type": "markdown",
   "metadata": {},
   "source": [
    "### Multiple Arguments `(*args)` and keyword arguments `(**kwargs)`\n",
    "\n",
    "_Note:_ Used to make the function flexible."
   ]
  },
  {
   "cell_type": "code",
   "execution_count": 40,
   "metadata": {},
   "outputs": [
    {
     "name": "stdout",
     "output_type": "stream",
     "text": [
      "9\n"
     ]
    }
   ],
   "source": [
    "def compute_sum(a, b):\n",
    "    return a + b\n",
    "print(compute_sum(4, 5))"
   ]
  },
  {
   "cell_type": "code",
   "execution_count": 41,
   "metadata": {},
   "outputs": [],
   "source": [
    "def compute_sum(*args):\n",
    "    print('Type of iterable object args {}.' .format(type(args)))\n",
    "    count = 0\n",
    "    for a in args:\n",
    "        count += a\n",
    "    return count"
   ]
  },
  {
   "cell_type": "code",
   "execution_count": 42,
   "metadata": {},
   "outputs": [
    {
     "name": "stdout",
     "output_type": "stream",
     "text": [
      "Type of iterable object args <class 'tuple'>.\n",
      "Result:  9.75\n"
     ]
    }
   ],
   "source": [
    "result = compute_sum(0.5, 2.25, 7)\n",
    "print('Result: ', result)"
   ]
  },
  {
   "cell_type": "markdown",
   "metadata": {},
   "source": [
    "**Obs:** The `args` argument is a name, the key-element is the unpacking operator `*`."
   ]
  },
  {
   "cell_type": "markdown",
   "metadata": {},
   "source": [
    "### Task 7\n",
    "\n",
    "**a.** Define a tuple of integers containing your day and birthday month, followed by your initials written as characters. Then replace the numbers within the list with the current date."
   ]
  },
  {
   "cell_type": "code",
   "execution_count": 112,
   "metadata": {},
   "outputs": [
    {
     "name": "stdout",
     "output_type": "stream",
     "text": [
      "Original tuple: (25, 6, 'M', 'P')\n",
      "Updated tuple (with today's date): (29, 10, 'M', 'P')\n"
     ]
    }
   ],
   "source": [
    "# Define tuple and replace its integers:\n",
    "from datetime import date\n",
    "\n",
    "t = (25, 6, 'M', 'P')  \n",
    "\n",
    "print(\"Original tuple:\", t)\n",
    "\n",
    "\n",
    "lst = list(t)\n",
    "\n",
    "today = date.today()\n",
    "lst[0] = today.day\n",
    "lst[1] = today.month\n",
    "\n",
    "t_updated = tuple(lst)\n",
    "print(\"Updated tuple (with today's date):\", t_updated)\n"
   ]
  },
  {
   "cell_type": "code",
   "execution_count": 111,
   "metadata": {},
   "outputs": [
    {
     "name": "stdout",
     "output_type": "stream",
     "text": [
      "New tuple (rebuilt): (29, 10, 'M', 'P')\n"
     ]
    }
   ],
   "source": [
    "# How can tuple's values be changed?\n",
    "from datetime import date\n",
    "\n",
    "t = (25, 6, 'M', 'P')   # original\n",
    "today = date.today()\n",
    "\n",
    "t_new = (today.day, today.month, *t[2:])\n",
    "print(\"New tuple (rebuilt):\", t_new)\n"
   ]
  },
  {
   "cell_type": "markdown",
   "metadata": {},
   "source": [
    "Find the difference between `lists` and `tuples`.\n",
    "\n",
    "`Lists` are ____________ while `tuples` are ____________."
   ]
  },
  {
   "cell_type": "markdown",
   "metadata": {},
   "source": [
    "**b.** `**kwargs` has a similar role as `*args` for _keyword arguments_. Define a function in which the arguments are passed as a standard dictionary. \n",
    "\n",
    "Given the follwing informations:\n",
    "\n",
    "```python\n",
    "Student Firstname: kwarg1\n",
    "Student Lastname: kwarg2\n",
    "Research Interests: kwarg3\n",
    "Thesis Proposal: kwarg4\n",
    "```\n",
    "\n",
    "Your output should look like:\n",
    "\n",
    "`[Student Name] is interested in [fields collection] and wrote [thesis proposal name].`,  if `kwargs4` exists.\n",
    "\n",
    "`[Student Name] is interested in [fields collection].`, otherwise."
   ]
  },
  {
   "cell_type": "code",
   "execution_count": 26,
   "metadata": {},
   "outputs": [
    {
     "name": "stdout",
     "output_type": "stream",
     "text": [
      "John Doe is interested in AI research and wrote Deep Learning.\n"
     ]
    }
   ],
   "source": [
    "# Your implementation here:\n",
    "def student_info(**kwargs):\n",
    "    name = f\"{kwargs.get('kwarg1','')} {kwargs.get('kwarg2','')}\"\n",
    "    interests = kwargs.get('kwarg3','')\n",
    "    thesis = kwargs.get('kwarg4')\n",
    "    if thesis:\n",
    "        print(f\"{name} is interested in {interests} and wrote {thesis}.\")\n",
    "    else:\n",
    "        print(f\"{name} is interested in {interests}.\")\n",
    "\n",
    "student_info(kwarg1='John', kwarg2='Doe', kwarg3='AI research', kwarg4='Deep Learning')\n"
   ]
  },
  {
   "cell_type": "markdown",
   "metadata": {},
   "source": [
    "**The unpacking procedure**\n",
    "\n",
    "The `*` single asterisk operator can extract the content of any iterable object, while the `**` double-asterisk operates on dictionaries."
   ]
  },
  {
   "cell_type": "code",
   "execution_count": 27,
   "metadata": {},
   "outputs": [
    {
     "name": "stdout",
     "output_type": "stream",
     "text": [
      "[0, 1, 4, 9, 16]\n"
     ]
    }
   ],
   "source": [
    "numbers = [x**2 for x in range(5)]\n",
    "print(numbers)"
   ]
  },
  {
   "cell_type": "code",
   "execution_count": 28,
   "metadata": {},
   "outputs": [
    {
     "name": "stdout",
     "output_type": "stream",
     "text": [
      "0 1 4 9 16\n"
     ]
    }
   ],
   "source": [
    "print(*numbers)"
   ]
  },
  {
   "cell_type": "markdown",
   "metadata": {},
   "source": [
    "**c.** The university administration has a dictionary with the same keys used for the previous dictionary with a default value of `None` for the thesis proposal key. However, a student's information requires an update.\n",
    "\n",
    "Define a function which takes as arguments the title of a thesis proposal and the information stored in the dictionary.\n",
    "\n",
    "_Note:_ Use `dict1.update(dict2)` paradigm to perform the update."
   ]
  },
  {
   "cell_type": "code",
   "execution_count": 29,
   "metadata": {},
   "outputs": [
    {
     "name": "stdout",
     "output_type": "stream",
     "text": [
      "{'kwarg1': 'John', 'kwarg2': 'Doe', 'kwarg3': 'AI', 'kwarg4': 'AI Ethics'}\n"
     ]
    }
   ],
   "source": [
    "# Your implementation here:\n",
    "def update_student_info(thesis_title, info_dict):\n",
    "    info_dict.update({'kwarg4': thesis_title})\n",
    "    return info_dict\n",
    "\n",
    "info = {'kwarg1': 'John', 'kwarg2': 'Doe', 'kwarg3': 'AI', 'kwarg4': None}\n",
    "updated = update_student_info('AI Ethics', info)\n",
    "print(updated)\n"
   ]
  },
  {
   "cell_type": "markdown",
   "metadata": {},
   "source": [
    "### More functionalities"
   ]
  },
  {
   "cell_type": "code",
   "execution_count": 92,
   "metadata": {},
   "outputs": [
    {
     "data": {
      "image/png": "[encoded data removed]",
      "text/plain": [
       "<Figure size 640x480 with 1 Axes>"
      ]
     },
     "metadata": {},
     "output_type": "display_data"
    }
   ],
   "source": [
    "import matplotlib \n",
    "import matplotlib.pyplot as plt \n",
    "\n",
    "fig = plt.figure() \n",
    "ax = fig.add_subplot(111) \n",
    "  \n",
    "rectangle = matplotlib.patches.Rectangle((0, 200), 200, 300, color='yellow') \n",
    "  \n",
    "ax.add_patch(rectangle)\n",
    "  \n",
    "plt.xlim([-10, 250]) \n",
    "plt.ylim([0, 600]) \n",
    "  \n",
    "plt.show()"
   ]
  },
  {
   "cell_type": "code",
   "execution_count": 32,
   "metadata": {},
   "outputs": [
    {
     "name": "stdout",
     "output_type": "stream",
     "text": [
      "[]\n",
      "[(200, 200), (0, 200), (500, 0), (200, 500)]\n"
     ]
    }
   ],
   "source": [
    "s = 'ABCD'\n",
    "points = []\n",
    "print(points)\n",
    "coord = [(200, 200), (0, 200), (500, 0), (200, 500)]\n",
    "print(coord)"
   ]
  },
  {
   "cell_type": "markdown",
   "metadata": {},
   "source": [
    "* Add elements to an empty list with `append()` function."
   ]
  },
  {
   "cell_type": "code",
   "execution_count": 33,
   "metadata": {},
   "outputs": [
    {
     "name": "stdout",
     "output_type": "stream",
     "text": [
      "['A', 'B', 'C', 'D']\n"
     ]
    }
   ],
   "source": [
    "for c in s:\n",
    "    points.append(c)\n",
    "print(points)"
   ]
  },
  {
   "cell_type": "markdown",
   "metadata": {},
   "source": [
    "* `zip()` function pairs together the values coming from `points` and `coord`."
   ]
  },
  {
   "cell_type": "code",
   "execution_count": 34,
   "metadata": {},
   "outputs": [
    {
     "name": "stdout",
     "output_type": "stream",
     "text": [
      "{'A': (200, 200), 'B': (0, 200), 'C': (500, 0), 'D': (200, 500)}\n"
     ]
    }
   ],
   "source": [
    "rectangle = dict(zip(points, coord))\n",
    "print(rectangle)"
   ]
  },
  {
   "cell_type": "markdown",
   "metadata": {},
   "source": [
    "### Task 8\n",
    "\n",
    "Convert `coord` list into individual lists."
   ]
  },
  {
   "cell_type": "code",
   "execution_count": 35,
   "metadata": {},
   "outputs": [
    {
     "name": "stdout",
     "output_type": "stream",
     "text": [
      "[200, 0, 500, 200]\n",
      "[200, 200, 0, 500]\n"
     ]
    }
   ],
   "source": [
    "# Your implementation here:\n",
    "x_coords = [x for x, y in coord]\n",
    "y_coords = [y for x, y in coord]\n",
    "print(x_coords)\n",
    "print(y_coords)\n"
   ]
  }
 ],
 "metadata": {
  "kernelspec": {
   "display_name": "Python 3",
   "language": "python",
   "name": "python3"
  },
  "language_info": {
   "codemirror_mode": {
    "name": "ipython",
    "version": 3
   },
   "file_extension": ".py",
   "mimetype": "text/x-python",
   "name": "python",
   "nbconvert_exporter": "python",
   "pygments_lexer": "ipython3",
   "version": "3.14.0"
  }
 },
 "nbformat": 4,
 "nbformat_minor": 4
}
